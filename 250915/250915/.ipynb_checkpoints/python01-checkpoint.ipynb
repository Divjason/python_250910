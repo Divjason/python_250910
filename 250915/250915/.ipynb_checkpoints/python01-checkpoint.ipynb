{
 "cells": [
  {
   "cell_type": "code",
   "execution_count": 2,
   "id": "b8f2203d-4747-4468-a711-988beb1558f9",
   "metadata": {
    "collapsed": true,
    "jupyter": {
     "outputs_hidden": true
    }
   },
   "outputs": [
    {
     "name": "stdout",
     "output_type": "stream",
     "text": [
      "Requirement already satisfied: selenium in c:\\programdata\\anaconda3\\lib\\site-packages (4.35.0)\n",
      "Requirement already satisfied: urllib3<3.0,>=2.5.0 in c:\\programdata\\anaconda3\\lib\\site-packages (from urllib3[socks]<3.0,>=2.5.0->selenium) (2.5.0)\n",
      "Requirement already satisfied: trio~=0.30.0 in c:\\programdata\\anaconda3\\lib\\site-packages (from selenium) (0.30.0)\n",
      "Requirement already satisfied: trio-websocket~=0.12.2 in c:\\programdata\\anaconda3\\lib\\site-packages (from selenium) (0.12.2)\n",
      "Requirement already satisfied: certifi>=2025.6.15 in c:\\programdata\\anaconda3\\lib\\site-packages (from selenium) (2025.8.3)\n",
      "Requirement already satisfied: typing_extensions~=4.14.0 in c:\\programdata\\anaconda3\\lib\\site-packages (from selenium) (4.14.1)\n",
      "Requirement already satisfied: websocket-client~=1.8.0 in c:\\programdata\\anaconda3\\lib\\site-packages (from selenium) (1.8.0)\n",
      "Requirement already satisfied: attrs>=23.2.0 in c:\\programdata\\anaconda3\\lib\\site-packages (from trio~=0.30.0->selenium) (24.3.0)\n",
      "Requirement already satisfied: sortedcontainers in c:\\programdata\\anaconda3\\lib\\site-packages (from trio~=0.30.0->selenium) (2.4.0)\n",
      "Requirement already satisfied: idna in c:\\programdata\\anaconda3\\lib\\site-packages (from trio~=0.30.0->selenium) (3.7)\n",
      "Requirement already satisfied: outcome in c:\\programdata\\anaconda3\\lib\\site-packages (from trio~=0.30.0->selenium) (1.3.0.post0)\n",
      "Requirement already satisfied: sniffio>=1.3.0 in c:\\programdata\\anaconda3\\lib\\site-packages (from trio~=0.30.0->selenium) (1.3.0)\n",
      "Requirement already satisfied: cffi>=1.14 in c:\\programdata\\anaconda3\\lib\\site-packages (from trio~=0.30.0->selenium) (1.17.1)\n",
      "Requirement already satisfied: wsproto>=0.14 in c:\\programdata\\anaconda3\\lib\\site-packages (from trio-websocket~=0.12.2->selenium) (1.2.0)\n",
      "Requirement already satisfied: pysocks!=1.5.7,<2.0,>=1.5.6 in c:\\programdata\\anaconda3\\lib\\site-packages (from urllib3[socks]<3.0,>=2.5.0->selenium) (1.7.1)\n",
      "Requirement already satisfied: pycparser in c:\\programdata\\anaconda3\\lib\\site-packages (from cffi>=1.14->trio~=0.30.0->selenium) (2.21)\n",
      "Requirement already satisfied: h11<1,>=0.9.0 in c:\\programdata\\anaconda3\\lib\\site-packages (from wsproto>=0.14->trio-websocket~=0.12.2->selenium) (0.16.0)\n",
      "Note: you may need to restart the kernel to use updated packages.\n"
     ]
    }
   ],
   "source": [
    "pip install selenium"
   ]
  },
  {
   "cell_type": "code",
   "execution_count": 3,
   "id": "637aa356-5e94-48c3-ae54-2d2d6f57dafd",
   "metadata": {
    "collapsed": true,
    "jupyter": {
     "outputs_hidden": true
    }
   },
   "outputs": [
    {
     "name": "stdout",
     "output_type": "stream",
     "text": [
      "Requirement already satisfied: webdriver-manager in c:\\programdata\\anaconda3\\lib\\site-packages (4.0.2)\n",
      "Requirement already satisfied: requests in c:\\programdata\\anaconda3\\lib\\site-packages (from webdriver-manager) (2.32.3)\n",
      "Requirement already satisfied: python-dotenv in c:\\programdata\\anaconda3\\lib\\site-packages (from webdriver-manager) (1.1.0)\n",
      "Requirement already satisfied: packaging in c:\\programdata\\anaconda3\\lib\\site-packages (from webdriver-manager) (24.2)\n",
      "Requirement already satisfied: charset-normalizer<4,>=2 in c:\\programdata\\anaconda3\\lib\\site-packages (from requests->webdriver-manager) (3.3.2)\n",
      "Requirement already satisfied: idna<4,>=2.5 in c:\\programdata\\anaconda3\\lib\\site-packages (from requests->webdriver-manager) (3.7)\n",
      "Requirement already satisfied: urllib3<3,>=1.21.1 in c:\\programdata\\anaconda3\\lib\\site-packages (from requests->webdriver-manager) (2.5.0)\n",
      "Requirement already satisfied: certifi>=2017.4.17 in c:\\programdata\\anaconda3\\lib\\site-packages (from requests->webdriver-manager) (2025.8.3)\n",
      "Note: you may need to restart the kernel to use updated packages.\n"
     ]
    }
   ],
   "source": [
    "pip install webdriver-manager"
   ]
  },
  {
   "cell_type": "code",
   "execution_count": 4,
   "id": "2ae7eff7-f817-4159-a4d4-a291d92e0a62",
   "metadata": {},
   "outputs": [
    {
     "name": "stdout",
     "output_type": "stream",
     "text": [
      "<class 'bs4.element.ResultSet'>\n",
      "헤어 오일하면 역시 모로칸오일!\n",
      "\n",
      "예전엔 늘 백화점에서 구매했는데, 인기 있는 제품이다 보니 재입고 일정 맞추기도 어렵고 기다림이 꽤 있었어요. 그런데 이번엔 컬리에서 샛별배송으로 바로 받아볼 수 있어서 정말 편하더라고요. 퇴근하고 주문했는데 다음 날 아침, 바로 현관 앞에 도착! 이래서 컬리를 못 끊는 이유죠.\n",
      "\n",
      "모로칸오일은 워낙 유명해서 설명이 필요 없을 정도예요. 향이 고급스럽고 머릿결을 찰랑거리게 해주는 오일로, 손상모나 건조모에는 특히 더 효과가 확실해요. 저처럼 자주 염색·드라이 하는 모발에 발라주면, 푸석함 없이 차분하게 정돈되면서 윤기가 살아나요.\n",
      "\n",
      "끈적임 없이 흡수도 빨라서 사계절 내내 부담 없이 사용 가능하고, 소량으로도 충분해서 오래 쓰게 돼요. 드라이 전/후로 나눠 바르면 더 효과적이에요. 백화점 정품 그대로, 빠르게 받을 수 있다는 점에서 컬리에서 재구매할 이유가 확실해졌어요. 앞으로도 쭉 컬리에서 구매할 예정입니다!\n",
      "모로칸 오일은 너무나도 유명하죠?\n",
      "전 면세점 갈 일 있음 꼭 쟁이곤 하는데요\n",
      "\n",
      "면세점보다 혜택이 좋은 곳은?\n",
      "바로 컬리에요 🤗\n",
      "\n",
      "멤버스 혜택 또는 뷰티컬리데이에는 면세점보다 \n",
      "더 좋은 혜택으로 살 수 있어요 \n",
      "전 컬리에서 벌써 3번 이상 구매했는 걸요?\n",
      "\n",
      "똑 떨어지면 몇날 몇일 기다리지 않고 \n",
      "담날 새벽이면 오니까 \n",
      "내 머리결까지 컬리가 지켜줍니다\n",
      "\n",
      "✅ 제형\n",
      "노란빛 도는 점성있는 오일 제형\n",
      "\n",
      "✅ 향\n",
      "무난하니 호불호 없는 향\n",
      "(헤어제품으로 아르간 오일이 좋다고 해서 \n",
      "사서 써본 적이 있는데 저에겐 불호 였네요)\n",
      "\n",
      "✅  효과\n",
      "이게 제일 중요한데 젖은 머리에 발라두면\n",
      "마르고 나서도 머리가 엉킴없이 부드러워요\n",
      "머리에서 윤기도 나고요 ✨✨\n",
      "\n",
      "\n",
      "헤어오일 잘 못 쓰면 기름져서 떡지기도 하자나요😭\n",
      "모로칸 오일은 그런 것 없이 머리카락에 싹 스며들면서\n",
      "찰랑이는 머리결을 유지한다는 게 신통방통!!\n",
      "\n",
      "역시는 역시, 유명한 데는 다 이유가 있다!\n",
      "모로칸 오일이 다시 한번 증명하네요 🤗\n",
      "\n",
      "앞으론 쭉 모로칸 오일은 컬리에서만 \n",
      "사게될 것 같아요 🫶🏻\n",
      "머리감고 물기만 수건으로 톡톡하고\n",
      "모로칸오일 젖은 머리카락에 발라주고\n",
      "드라이하고 또 모로칸오일 발라줬는데\n",
      "머리카락이 부들부들\n",
      "오늘 처음 썼는데 너무 좋아요~^^\n",
      "잦은 염색으로 머리카락이 푸석푸석하고 머리결도 안좋고, 머리가 끊어지고 그래서\n",
      "스트레스였는데 컬리에서 저렴하게 살 수 있어서 넘 좋아요\n",
      "꾸준하게 쓰면 머리결 좋아질 거 같아요~\n",
      "오랜만에 사용해보니 여전히 좋네요\n",
      "쿠폰이랑 적립금으로 알뜰구매했어요\n",
      "조아요 모로칸오일~~~\n",
      "푸석푸석한 머리결이 모로칸오일을 바르면 바로 정돈됩니다.\n",
      "모로칸 오일은 머리에 바른후  끈적임이 없고 흡수가 잘 되어 산뜻하게 느껴지네요.\n",
      " \n",
      "다만, 제 머리는 몇시간 지나면 푸석함이 또 시작되어 한두번은 더 발라줘야 되요.\n",
      "저만의 머리결 문제려나요?\n",
      "아무튼 저는 떨어지기전에 재구매\n",
      "동반템 모로칸오일. 이거 하나면 다른 헤어제품 필요없어요.\n",
      "항상 쓰는 제품이에요~\n",
      "머리에 윤기나고 차분해져요\n",
      "머리결도 부드러워지고 향도 좋아요\n"
     ]
    }
   ],
   "source": [
    "from selenium import webdriver\n",
    "from selenium.webdriver.chrome.service import Service\n",
    "from selenium.webdriver.chrome.options import Options\n",
    "from webdriver_manager.chrome import ChromeDriverManager\n",
    "from bs4 import BeautifulSoup\n",
    "import time\n",
    "\n",
    "service = Service(ChromeDriverManager().install())\n",
    "options = Options()\n",
    "options.add_argument(\"--no-sandbox\")\n",
    "options.add_argument(\"--disable-dev-shm-usage\")\n",
    "options.add_argument(\"--user-agent=Mozilla/5.0 (Windows NT 10.0; Win64; x64) AppleWebKit/537.36 (KHTML, like Gecko) Chrome/140.0.0.0 Safari/537.36\")\n",
    "options.add_argument(\"--lang=ko_KR\")\n",
    "\n",
    "driver = webdriver.Chrome(service=service, options=options)\n",
    "\n",
    "url = \"https://www.kurly.com/goods/1000078028\"\n",
    "\n",
    "driver.get(url)\n",
    "time.sleep(5)\n",
    "\n",
    "soup = BeautifulSoup(driver.page_source, \"html.parser\")\n",
    "\n",
    "reviews = soup.select(\"p.css-y49dcn.e36z05c13\")\n",
    "print(type(reviews))\n",
    "\n",
    "for review in reviews :\n",
    "    print(review.get_text().strip())\n",
    "\n",
    "driver.quit()"
   ]
  }
 ],
 "metadata": {
  "kernelspec": {
   "display_name": "Python [conda env:base] *",
   "language": "python",
   "name": "conda-base-py"
  },
  "language_info": {
   "codemirror_mode": {
    "name": "ipython",
    "version": 3
   },
   "file_extension": ".py",
   "mimetype": "text/x-python",
   "name": "python",
   "nbconvert_exporter": "python",
   "pygments_lexer": "ipython3",
   "version": "3.13.5"
  }
 },
 "nbformat": 4,
 "nbformat_minor": 5
}
